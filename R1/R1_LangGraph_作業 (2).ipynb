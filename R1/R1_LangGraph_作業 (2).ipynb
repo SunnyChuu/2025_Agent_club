{
  "nbformat": 4,
  "nbformat_minor": 0,
  "metadata": {
    "colab": {
      "provenance": [],
      "gpuType": "T4"
    },
    "kernelspec": {
      "name": "python3",
      "display_name": "Python 3"
    },
    "language_info": {
      "name": "python"
    },
    "accelerator": "GPU"
  },
  "cells": [
    {
      "cell_type": "markdown",
      "source": [
        "\n",
        "\n",
        ">baseline\n",
        "\n",
        "\n",
        "\n"
      ],
      "metadata": {
        "id": "LfYhAi2N7uFU"
      }
    },
    {
      "cell_type": "markdown",
      "source": [
        "將關鍵字比對換成向量相似度比對。"
      ],
      "metadata": {
        "id": "QVmBWAtCIODS"
      }
    },
    {
      "cell_type": "markdown",
      "source": [
        "請將目前使用關鍵字比對的 route_by_query，改為使用向量相似度進行分類，並設一個合理的相似度門檻，根據檢索結果的分數判斷是否走 RAG 流程。 例如用向量相似度及自訂 threshold 決定要不要分到 retriever。\n",
        "\n",
        "Hint：similarity_search_with_score(...) 可參考去年的讀書會 R4：向量資料庫的基本操作\n"
      ],
      "metadata": {
        "id": "GBRrhJyS7yAq"
      }
    },
    {
      "cell_type": "code",
      "source": [
        "!pip install -U langchain-community\n",
        "!pip install -U langchain langchain-community langchain-huggingface chromadb"
      ],
      "metadata": {
        "id": "0MfCft1Q_Qyv"
      },
      "execution_count": null,
      "outputs": []
    },
    {
      "cell_type": "code",
      "source": [
        "# 1. 匯入套件\n",
        "from langchain_core.documents import Document\n",
        "from langchain_community.vectorstores import Chroma\n",
        "from langchain_huggingface import HuggingFaceEmbeddings\n",
        "\n",
        "# 2. 定義文本資料（火影人物表）\n",
        "docs_text = \"\"\"\n",
        "火影代數\\t姓名\\t師傅\\t徒弟\n",
        "初代\\t千手柱間\\t無明確記載\\t猿飛日斬、水戶門炎、轉寢小春\n",
        "二代\\t千手扉間\\t千手柱間（兄長）\\t猿飛日斬、志村團藏、宇智波鏡等\n",
        "三代\\t猿飛日斬\\t千手柱間、千手扉間\\t自來也、大蛇丸、千手綱手（傳說三忍）\n",
        "四代\\t波風湊\\t自來也\\t旗木卡卡西、宇智波帶土、野原琳\n",
        "五代\\t千手綱手\\t猿飛日斬\\t春野櫻、志乃等（主要為春野櫻）\n",
        "六代\\t旗木卡卡西\\t波風湊\\t漩渦鳴人、宇智波佐助、春野櫻（第七班）\n",
        "七代\\t漩渦鳴人\\t自來也、旗木卡卡西\\t木葉丸等（主要為木葉丸）\n",
        "\"\"\"\n",
        "\n",
        "# 3. 拆成多筆 Document（每一段為一筆）\n",
        "docs = [Document(page_content=txt.strip()) for txt in docs_text.strip().split(\"\\n\")]\n",
        "\n",
        "# 4. 建立 embedding 模型（支援中文）\n",
        "embedding_model = HuggingFaceEmbeddings(\n",
        "    model_name=\"infgrad/stella-base-zh-v3-1792d\",\n",
        "    encode_kwargs={\"normalize_embeddings\": True}\n",
        ")\n",
        "\n",
        "# 5. 建立向量資料庫（使用 Chroma）\n",
        "vectorstore = Chroma.from_documents(\n",
        "    documents=docs,\n",
        "    embedding=embedding_model,\n",
        "    collection_name=\"naruto_collection\",\n",
        "    persist_directory=\"./naruto_store\"\n",
        ")\n"
      ],
      "metadata": {
        "id": "kd8d_d2q7oM9"
      },
      "execution_count": null,
      "outputs": []
    },
    {
      "cell_type": "code",
      "source": [
        "##### 查詢 + 判斷是否進入 RAG #####\n",
        "\n",
        "def route_by_similarity(query: str, threshold: float = 0.65):\n",
        "    # 查詢最相似的資料\n",
        "    results = vectorstore.similarity_search_with_score(query, k=1)\n",
        "\n",
        "    if not results:\n",
        "        print(\"查無結果，直接交給模型回答\")\n",
        "        return \"direct\"\n",
        "\n",
        "    top_doc, score = results[0]\n",
        "    print(f\"相似度分數（越小越像）：{score:.3f}\")\n",
        "    print(f\"相關內容：{top_doc.page_content}\\n\")\n",
        "\n",
        "    if score < threshold:\n",
        "        return \"rag\"\n",
        "    else:\n",
        "        return \"direct\"\n",
        "\n",
        "# ✅ 示範使用者互動\n",
        "while True:\n",
        "    user_input = input(\"使用者：\")\n",
        "    if user_input.lower() in [\"q\", \"quit\", \"exit\"]:\n",
        "        break\n",
        "\n",
        "    path = route_by_similarity(user_input)\n",
        "\n",
        "    if path == \"rag\":\n",
        "        print(\"→ 進入 RAG 檢索流程（用資料輔助模型回答）\")\n",
        "    else:\n",
        "        print(\"→ 不進入 RAG，交給模型自己回答\")\n",
        "\n",
        "    print(\"===\" * 20)\n"
      ],
      "metadata": {
        "colab": {
          "base_uri": "https://localhost:8080/"
        },
        "id": "Qu5HxZuf_StU",
        "outputId": "e1ad98a9-5f0c-4ad6-8bcf-de153c5e4649"
      },
      "execution_count": 3,
      "outputs": [
        {
          "name": "stdout",
          "output_type": "stream",
          "text": [
            "使用者：誰是第四代火影?\n",
            "相似度分數（越小越像）：0.604\n",
            "相關內容：四代\t波風湊\t自來也\t旗木卡卡西、宇智波帶土、野原琳\n",
            "\n",
            "→ 進入 RAG 檢索流程（用資料輔助模型回答）\n",
            "============================================================\n",
            "使用者：第四代火影的師傅是誰?\n",
            "相似度分數（越小越像）：0.472\n",
            "相關內容：火影代數\t姓名\t師傅\t徒弟\n",
            "\n",
            "→ 進入 RAG 檢索流程（用資料輔助模型回答）\n",
            "============================================================\n",
            "使用者： 第四代火影的徒弟有哪些人?\n",
            "相似度分數（越小越像）：0.483\n",
            "相關內容：火影代數\t姓名\t師傅\t徒弟\n",
            "\n",
            "→ 進入 RAG 檢索流程（用資料輔助模型回答）\n",
            "============================================================\n",
            "使用者： 相對論是誰發明的?\n",
            "相似度分數（越小越像）：1.295\n",
            "相關內容：七代\t漩渦鳴人\t自來也、旗木卡卡西\t木葉丸等（主要為木葉丸）\n",
            "\n",
            "→ 不進入 RAG，交給模型自己回答\n",
            "============================================================\n",
            "使用者：q\n"
          ]
        }
      ]
    },
    {
      "cell_type": "markdown",
      "source": [
        "\n",
        "\n",
        "> advance\n"
      ],
      "metadata": {
        "id": "frekFt4NIaTR"
      }
    },
    {
      "cell_type": "markdown",
      "source": [
        "改成能支援多輪問答（Multi-turn RAG），並能根據前面的query判斷問題。"
      ],
      "metadata": {
        "id": "ir_rprQNI4ay"
      }
    },
    {
      "cell_type": "markdown",
      "source": [
        "請將 RAGState 加入 history 欄位，並在生成回答時，將歷史對話與當前問題一起組成 prompt。"
      ],
      "metadata": {
        "id": "imwaPBEKInPJ"
      }
    },
    {
      "cell_type": "markdown",
      "source": [
        "Hint：\n",
        "\n",
        "class MultiTurnRAGState(TypedDict):  \n",
        "    history: List[str]  \n",
        "    query: str  \n",
        "    docs: List[Document]  \n",
        "    answer: str"
      ],
      "metadata": {
        "id": "auJmC5qAIptK"
      }
    },
    {
      "cell_type": "code",
      "source": [
        "# ✅ 套件安裝指令（Colab 使用）\n",
        "!pip install -U langchain langchain-community langchain-huggingface chromadb langgraph transformers"
      ],
      "metadata": {
        "id": "Cn1vBkBiXFHo"
      },
      "execution_count": null,
      "outputs": []
    },
    {
      "cell_type": "code",
      "source": [
        "# ✅ 向量知識庫建立\n",
        "from langchain_core.documents import Document\n",
        "from langchain_community.vectorstores import Chroma\n",
        "from langchain_huggingface import HuggingFaceEmbeddings\n",
        "\n",
        "# 火影資料表\n",
        "docs_text = \"\"\"\n",
        "火影代數\t姓名\t師傅\t徒弟\n",
        "初代\t千手柱間\t無明確記載\t猿飛日斬、水戶門炎、轉寢小春\n",
        "二代\t千手扉間\t千手柱間（兄長）\t猿飛日斬、志村團藏、宇智波鏡等\n",
        "三代\t猿飛日斬\t千手柱間、千手扉間\t自來也、大蛇丸、千手綱手（傳說三忍）\n",
        "四代\t波風湊\t自來也\t旗木卡卡西、宇智波帶土、野原琳\n",
        "五代\t千手綱手\t猿飛日斬\t春野櫻、志乃等（主要為春野櫻）\n",
        "六代\t旗木卡卡西\t波風湊\t漩渦鳴人、宇智波佐助、春野櫻（第七班）\n",
        "七代\t漩渦鳴人\t自來也、旗木卡卡西\t木葉丸等（主要為木葉丸）\n",
        "\"\"\"\n",
        "\n",
        "lines = docs_text.strip().split(\"\\n\")[1:]  # 去掉標題\n",
        "docs = []\n",
        "for line in lines:\n",
        "    generation, name, master, students = line.split(\"\\t\")\n",
        "    content = f\"{generation}火影是{name}，師父是{master}，徒弟是{students}。\"\n",
        "    docs.append(Document(page_content=content))\n",
        "\n",
        "embedding_model = HuggingFaceEmbeddings(\n",
        "    model_name=\"infgrad/stella-base-zh-v3-1792d\",\n",
        "    encode_kwargs={\"normalize_embeddings\": True}\n",
        ")\n",
        "\n",
        "vectorstore = Chroma.from_documents(\n",
        "    documents=docs,\n",
        "    embedding=embedding_model,\n",
        "    collection_name=\"naruto_collection\",\n",
        "    persist_directory=\"./naruto_store\"\n",
        ")\n",
        "\n",
        "# ✅ 載入 Qwen Chat 模型\n",
        "from transformers import AutoTokenizer, AutoModelForCausalLM, pipeline\n",
        "\n",
        "model_id = \"Qwen/Qwen1.5-0.5B-Chat\"\n",
        "tokenizer = AutoTokenizer.from_pretrained(model_id, trust_remote_code=True)\n",
        "model = AutoModelForCausalLM.from_pretrained(model_id, trust_remote_code=True, device_map=\"auto\")\n",
        "\n",
        "generator = pipeline(\n",
        "    task=\"text-generation\",\n",
        "    model=model,\n",
        "    tokenizer=tokenizer,\n",
        "    max_new_tokens=512,\n",
        "    do_sample=True,\n",
        "    temperature=0.4,\n",
        "    return_full_text=False\n",
        ")\n",
        "\n",
        "# ✅ 將多輪對話包成 Qwen 格式的 chat prompt\n",
        "def build_chat_prompt(history: list, query: str):\n",
        "    messages = [{\"role\": \"user\", \"content\": h} for h in history]\n",
        "    messages.append({\"role\": \"user\", \"content\": query})\n",
        "    messages.append({\"role\": \"assistant\", \"content\": \"\"})\n",
        "    return tokenizer.apply_chat_template(messages, tokenize=False, add_generation_prompt=True)\n",
        "\n",
        "# ✅ 定義 State 結構\n",
        "from typing_extensions import TypedDict, List\n",
        "from langchain_core.documents import Document\n",
        "\n",
        "class MultiTurnRAGState(TypedDict):\n",
        "    history: List[str]\n",
        "    query: str\n",
        "    docs: List[Document]\n",
        "    answer: str\n",
        "\n",
        "# ✅ 定義節點\n",
        "\n",
        "def retrieve_node(state: MultiTurnRAGState) -> MultiTurnRAGState:\n",
        "    docs = vectorstore.similarity_search(state[\"query\"], k=3)\n",
        "    return {**state, \"docs\": docs}\n",
        "\n",
        "def generate_node(state: MultiTurnRAGState) -> MultiTurnRAGState:\n",
        "    context = \"\\n\".join(doc.page_content for doc in state[\"docs\"])\n",
        "    history_prompt = f\"根據以下知識回答問題：\\n{context}\"\n",
        "    prompt = build_chat_prompt(state[\"history\"] + [history_prompt], state[\"query\"])\n",
        "    output = generator(prompt, max_new_tokens=200)[0][\"generated_text\"]\n",
        "    return {**state, \"answer\": output, \"history\": state[\"history\"] + [state[\"query\"], output]}\n",
        "\n",
        "def direct_generate_node(state: MultiTurnRAGState) -> MultiTurnRAGState:\n",
        "    prompt = build_chat_prompt(state[\"history\"], state[\"query\"])\n",
        "    output = generator(prompt, max_new_tokens=200)[0][\"generated_text\"]\n",
        "    return {**state, \"answer\": output, \"history\": state[\"history\"] + [state[\"query\"], output]}\n",
        "\n",
        "def reject_node(state: MultiTurnRAGState) -> MultiTurnRAGState:\n",
        "    prompt = build_chat_prompt(state[\"history\"], state[\"query\"])\n",
        "    output = generator(prompt, max_new_tokens=200)[0][\"generated_text\"]\n",
        "    return {**state, \"answer\": output, \"history\": state[\"history\"] + [state[\"query\"], output]}\n",
        "\n",
        "# ✅ 條件判斷節點\n",
        "\n",
        "def is_related_to_naruto(query: str) -> bool:\n",
        "    keywords = [\"火影\", \"忍者\", \"卡卡西\", \"木葉\", \"鳴人\", \"自來也\", \"綱手\", \"帶土\", \"琳\"]\n",
        "    return any(k in query for k in keywords)\n",
        "\n",
        "from langchain_core.runnables import RunnableLambda\n",
        "\n",
        "def route_by_query(sqtate: MultiTurnRAGState) -> str:\n",
        "    results = vectorstore.similarity_search_with_score(state[\"query\"], k=3)\n",
        "    avg_score = sum(score for _, score in results) / len(results)\n",
        "    print(f\"→ 相似度 {avg_score:.3f}\")\n",
        "    if avg_score > 1.0:\n",
        "        return \"reject\"\n",
        "    elif avg_score < 0.8 and is_related_to_naruto(state[\"query\"]):\n",
        "        return \"rag\"\n",
        "    else:\n",
        "        return \"direct\"\n",
        "\n",
        "# ✅ LangGraph 組裝\n",
        "from langgraph.graph import StateGraph, END\n",
        "\n",
        "graph_builder = StateGraph(MultiTurnRAGState)\n",
        "graph_builder.set_entry_point(\"condition\")\n",
        "graph_builder.add_node(\"condition\", RunnableLambda(lambda x: x))\n",
        "graph_builder.add_node(\"retriever\", RunnableLambda(retrieve_node))\n",
        "graph_builder.add_node(\"generator\", RunnableLambda(generate_node))\n",
        "graph_builder.add_node(\"direct_generator\", RunnableLambda(direct_generate_node))\n",
        "graph_builder.add_node(\"reject\", RunnableLambda(reject_node))\n",
        "\n",
        "graph_builder.add_conditional_edges(\n",
        "    \"condition\", RunnableLambda(route_by_query),\n",
        "    {\"rag\": \"retriever\", \"direct\": \"direct_generator\", \"reject\": \"reject\"}\n",
        ")\n",
        "graph_builder.add_edge(\"retriever\", \"generator\")\n",
        "graph_builder.add_edge(\"generator\", END)\n",
        "graph_builder.add_edge(\"direct_generator\", END)\n",
        "graph_builder.add_edge(\"reject\", END)\n",
        "\n",
        "graph = graph_builder.compile()\n",
        "\n",
        "# ✅ 開始對話\n",
        "history = []\n",
        "print(\"開始對話吧（輸入 q 結束）\")\n",
        "while True:\n",
        "    user_input = input(\"使用者: \")\n",
        "    if user_input.lower() in [\"q\", \"quit\", \"exit\"]:\n",
        "        print(\"掰啦！\")\n",
        "        break\n",
        "    state = {\"history\": history, \"query\": user_input, \"docs\": [], \"answer\": \"\"}\n",
        "    result = graph.invoke(state)\n",
        "    print(\"AI 助理：\", result[\"answer\"].strip())\n",
        "    print(\"=\" * 60)\n",
        "    history = result[\"history\"]\n"
      ],
      "metadata": {
        "colab": {
          "base_uri": "https://localhost:8080/"
        },
        "id": "C4OS6aafVCbX",
        "outputId": "3224efc1-cc8c-4c84-c795-df7bb03881ef"
      },
      "execution_count": 4,
      "outputs": [
        {
          "output_type": "stream",
          "name": "stderr",
          "text": [
            "Some weights of BertModel were not initialized from the model checkpoint at infgrad/stella-base-zh-v3-1792d and are newly initialized: ['pooler.dense.bias', 'pooler.dense.weight']\n",
            "You should probably TRAIN this model on a down-stream task to be able to use it for predictions and inference.\n",
            "Device set to use cuda:0\n"
          ]
        },
        {
          "output_type": "stream",
          "name": "stdout",
          "text": [
            "開始對話吧（輸入 q 結束）\n",
            "使用者: 第四代火影是誰?\n",
            "→ 相似度 0.340\n",
            "AI 助理： 第四代火影是波風湊，師父是自來也，徒弟是旗木卡卡西、宇智波帶土、野原琳。\n",
            "============================================================\n",
            "使用者: 他的師父是誰?\n",
            "→ 相似度 0.772\n",
            "AI 助理： 第四代火影的師父是自來也。\n",
            "============================================================\n",
            "使用者: 他的徒弟有哪些人?\n",
            "→ 相似度 0.724\n",
            "AI 助理： 第四代火影的徒弟有：\n",
            "\n",
            "1. 旗木卡卡西：他是第四代火影的主角，也是团队的主要成员之一。\n",
            "2. 宇智波带土：他是第四代火影的辅助角色，同时也是团队的重要支持者。\n",
            "3. 尼古拉·风影：她是第四代火影的伙伴，也是团队中的重要成员之一。\n",
            "\n",
            "第四代火影的其他主要人物包括：\n",
            "\n",
            "1. 鲁智深：他是第四代火影的队友，也是团队中的重要成员之一。\n",
            "2. 松下忍者：他是第四代火影的导师，也是团队中的重要成员之一。\n",
            "3. 神崎勇者：他是第四代火影的同伴，也是团队中的重要成员之一。\n",
            "============================================================\n",
            "使用者: 相對論是他發明的嗎?\n",
            "→ 相似度 1.277\n",
            "AI 助理： 是的，相對論是由日本作家村上春樹在《火影忍者》中提出的，他是在第一卷「火影忍者」中提出的概念，后来被广泛接受并融入到其他作品中。相對論的概念强调了火影忍者的身份和背景，以及他们与其他角色之间的关系，从而构建了一个更加复杂而立体的角色世界。\n",
            "============================================================\n",
            "使用者: 相對論不是愛因斯坦嗎?\n",
            "→ 相似度 1.372\n",
            "AI 助理： 不，相對論并不是愛因斯坦提出的。相對論是由日本作家村上春樹在《火影忍者》中提出的概念，他在第一卷「火影忍者」中提出了这个概念，并且后来被广泛接受并融入到其他作品中。相對論的概念强调了火影忍者的身份和背景，以及他们与其他角色之间的关系，从而构建了一个更加复杂而立体的角色世界。\n",
            "============================================================\n",
            "使用者: q\n",
            "掰啦！\n"
          ]
        }
      ]
    },
    {
      "cell_type": "code",
      "source": [],
      "metadata": {
        "id": "Wc0CdSxvXG4x"
      },
      "execution_count": null,
      "outputs": []
    }
  ]
}